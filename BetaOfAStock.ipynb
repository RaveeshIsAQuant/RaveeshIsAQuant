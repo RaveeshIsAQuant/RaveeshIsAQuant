{
 "cells": [
  {
   "cell_type": "code",
   "execution_count": 28,
   "id": "52cf22ca",
   "metadata": {},
   "outputs": [
    {
     "name": "stdout",
     "output_type": "stream",
     "text": [
      "Requirement already satisfied: pandas-datareader in /Users/raveeshbabu/opt/anaconda3/lib/python3.8/site-packages (0.10.0)\n",
      "Requirement already satisfied: pandas>=0.23 in /Users/raveeshbabu/opt/anaconda3/lib/python3.8/site-packages (from pandas-datareader) (1.2.4)\n",
      "Requirement already satisfied: requests>=2.19.0 in /Users/raveeshbabu/opt/anaconda3/lib/python3.8/site-packages (from pandas-datareader) (2.28.1)\n",
      "Requirement already satisfied: lxml in /Users/raveeshbabu/opt/anaconda3/lib/python3.8/site-packages (from pandas-datareader) (4.6.3)\n",
      "Requirement already satisfied: python-dateutil>=2.7.3 in /Users/raveeshbabu/opt/anaconda3/lib/python3.8/site-packages (from pandas>=0.23->pandas-datareader) (2.8.1)\n",
      "Requirement already satisfied: pytz>=2017.3 in /Users/raveeshbabu/opt/anaconda3/lib/python3.8/site-packages (from pandas>=0.23->pandas-datareader) (2021.1)\n",
      "Requirement already satisfied: numpy>=1.16.5 in /Users/raveeshbabu/opt/anaconda3/lib/python3.8/site-packages (from pandas>=0.23->pandas-datareader) (1.20.1)\n",
      "Requirement already satisfied: six>=1.5 in /Users/raveeshbabu/opt/anaconda3/lib/python3.8/site-packages (from python-dateutil>=2.7.3->pandas>=0.23->pandas-datareader) (1.15.0)\n",
      "Requirement already satisfied: urllib3<1.27,>=1.21.1 in /Users/raveeshbabu/opt/anaconda3/lib/python3.8/site-packages (from requests>=2.19.0->pandas-datareader) (1.26.4)\n",
      "Requirement already satisfied: certifi>=2017.4.17 in /Users/raveeshbabu/opt/anaconda3/lib/python3.8/site-packages (from requests>=2.19.0->pandas-datareader) (2020.12.5)\n",
      "Requirement already satisfied: charset-normalizer<3,>=2 in /Users/raveeshbabu/opt/anaconda3/lib/python3.8/site-packages (from requests>=2.19.0->pandas-datareader) (2.1.0)\n",
      "Requirement already satisfied: idna<4,>=2.5 in /Users/raveeshbabu/opt/anaconda3/lib/python3.8/site-packages (from requests>=2.19.0->pandas-datareader) (2.10)\n",
      "Note: you may need to restart the kernel to use updated packages.\n"
     ]
    }
   ],
   "source": [
    "pip install pandas-datareader"
   ]
  },
  {
   "cell_type": "code",
   "execution_count": 29,
   "id": "918e1054",
   "metadata": {},
   "outputs": [],
   "source": [
    "import pandas as pd\n",
    "import numpy as np\n",
    "import matplotlib.pyplot as plt\n",
    "from pandas_datareader import data as wb"
   ]
  },
  {
   "cell_type": "code",
   "execution_count": 30,
   "id": "6cbeb693",
   "metadata": {},
   "outputs": [],
   "source": [
    "my_data = ['AAPL','META']\n",
    "data = pd.DataFrame()\n",
    "for t in my_data:\n",
    "    data[t] = wb.DataReader(t,data_source = 'yahoo',start ='2021-01-01')['Adj Close']"
   ]
  },
  {
   "cell_type": "code",
   "execution_count": 31,
   "id": "731b0d1e",
   "metadata": {},
   "outputs": [],
   "source": [
    "log_returns = np.log(data/data.shift(1))"
   ]
  },
  {
   "cell_type": "code",
   "execution_count": 32,
   "id": "2ef9fb4d",
   "metadata": {},
   "outputs": [
    {
     "data": {
      "text/plain": [
       "<AxesSubplot:xlabel='Date'>"
      ]
     },
     "execution_count": 32,
     "metadata": {},
     "output_type": "execute_result"
    },
    {
     "data": {
      "image/png": "[encoded data removed]",
      "text/plain": [
       "<Figure size 432x288 with 1 Axes>"
      ]
     },
     "metadata": {
      "needs_background": "light"
     },
     "output_type": "display_data"
    }
   ],
   "source": [
    "log_returns.plot()"
   ]
  },
  {
   "cell_type": "code",
   "execution_count": 33,
   "id": "54606818",
   "metadata": {},
   "outputs": [],
   "source": [
    "cov=log_returns.cov()*250"
   ]
  },
  {
   "cell_type": "code",
   "execution_count": 34,
   "id": "1d05624e",
   "metadata": {},
   "outputs": [],
   "source": [
    "market_var = log_returns['META'].var()*250"
   ]
  },
  {
   "cell_type": "code",
   "execution_count": 35,
   "id": "bb676f66",
   "metadata": {},
   "outputs": [
    {
     "data": {
      "text/plain": [
       "0.22659637479600622"
      ]
     },
     "execution_count": 35,
     "metadata": {},
     "output_type": "execute_result"
    }
   ],
   "source": [
    "market_var"
   ]
  },
  {
   "cell_type": "code",
   "execution_count": 36,
   "id": "bd5028f3",
   "metadata": {},
   "outputs": [],
   "source": [
    "p_var=log_returns['AAPL'].var()*250"
   ]
  },
  {
   "cell_type": "code",
   "execution_count": 37,
   "id": "546e492d",
   "metadata": {},
   "outputs": [],
   "source": [
    "cov_var = cov.iloc[0,1]\n"
   ]
  },
  {
   "cell_type": "code",
   "execution_count": 38,
   "id": "b55700c3",
   "metadata": {},
   "outputs": [
    {
     "data": {
      "text/plain": [
       "0.07499357388604348"
      ]
     },
     "execution_count": 38,
     "metadata": {},
     "output_type": "execute_result"
    }
   ],
   "source": [
    "cov_var"
   ]
  },
  {
   "cell_type": "code",
   "execution_count": 39,
   "id": "3d19e5f7",
   "metadata": {},
   "outputs": [],
   "source": [
    "beta = cov_var/market_var"
   ]
  },
  {
   "cell_type": "code",
   "execution_count": 40,
   "id": "2114ef1e",
   "metadata": {},
   "outputs": [
    {
     "data": {
      "text/plain": [
       "0.33095663579594586"
      ]
     },
     "execution_count": 40,
     "metadata": {},
     "output_type": "execute_result"
    }
   ],
   "source": [
    "beta"
   ]
  },
  {
   "cell_type": "code",
   "execution_count": null,
   "id": "7c99101f",
   "metadata": {},
   "outputs": [],
   "source": []
  }
 ],
 "metadata": {
  "kernelspec": {
   "display_name": "Python 3",
   "language": "python",
   "name": "python3"
  },
  "language_info": {
   "codemirror_mode": {
    "name": "ipython",
    "version": 3
   },
   "file_extension": ".py",
   "mimetype": "text/x-python",
   "name": "python",
   "nbconvert_exporter": "python",
   "pygments_lexer": "ipython3",
   "version": "3.8.8"
  }
 },
 "nbformat": 4,
 "nbformat_minor": 5
}
