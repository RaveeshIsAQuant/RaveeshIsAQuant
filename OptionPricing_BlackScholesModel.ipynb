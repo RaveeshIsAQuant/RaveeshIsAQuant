{
 "cells": [
  {
   "cell_type": "code",
   "execution_count": 1,
   "id": "d6708e60",
   "metadata": {},
   "outputs": [],
   "source": [
    "import numpy as np\n",
    "import scipy.stats as si"
   ]
  },
  {
   "cell_type": "code",
   "execution_count": 2,
   "id": "4b062f18",
   "metadata": {},
   "outputs": [],
   "source": [
    "def PolanitzerNormsdist(x):\n",
    " PolanitzerNormsdist = si.norm.cdf(x,0.0,1.0)\n",
    " return (PolanitzerNormsdist)"
   ]
  },
  {
   "cell_type": "code",
   "execution_count": 3,
   "id": "2c232197",
   "metadata": {},
   "outputs": [
    {
     "data": {
      "text/plain": [
       "0.9500150944608786"
      ]
     },
     "execution_count": 3,
     "metadata": {},
     "output_type": "execute_result"
    }
   ],
   "source": [
    "PolanitzerNormsdist(1.645)"
   ]
  },
  {
   "cell_type": "code",
   "execution_count": 4,
   "id": "a31cbe3d",
   "metadata": {},
   "outputs": [],
   "source": [
    "def PolanitzerBlackScholesCall(StockPrice, StrikePrice, Maturity, RiskFreeRate, Volatility):\n",
    "    d1 = (np.log(StockPrice/StrikePrice)+(RiskFreeRate+0.5*Volatility**2)*Maturity)/(Volatility*np.sqrt(Maturity))\n",
    "    d2 = (np.log(StockPrice/StrikePrice)+(RiskFreeRate-0.5*Volatility**2)*Maturity)/(Volatility*np.sqrt(Maturity))\n",
    "    PolanitzerBlackScholesCall = StockPrice*PolanitzerNormsdist(d1)-StrikePrice*np.exp(-RiskFreeRate*Maturity)*PolanitzerNormsdist(d2)\n",
    "    return(PolanitzerBlackScholesCall)\n",
    "def PolanitzerBlackScholesPut(StockPrice, StrikePrice, Maturity, RiskFreeRate, Volatility):\n",
    "    d1 = (np.log(StockPrice/StrikePrice)+(RiskFreeRate+0.5*Volatility**2)*Maturity)/(Volatility*np.sqrt(Maturity))\n",
    "    d2 = (np.log(StockPrice/StrikePrice)+(RiskFreeRate-0.5*Volatility**2)*Maturity)/(Volatility*np.sqrt(Maturity))\n",
    "    PolanitzerBlackScholesPut = StrikePrice*np.exp(-RiskFreeRate*Maturity)*PolanitzerNormsdist(-d2)-StockPrice*PolanitzerNormsdist(-d1)\n",
    "    return(PolanitzerBlackScholesPut)"
   ]
  },
  {
   "cell_type": "code",
   "execution_count": 5,
   "id": "e7dc3b77",
   "metadata": {},
   "outputs": [],
   "source": [
    "# Assumptions:\n",
    "StockPrice = 42\n",
    "StrikePrice = 42\n",
    "Maturity = 1.5\n",
    "RiskFreeRate = 0.05\n",
    "Volatility = 0.20\n"
   ]
  },
  {
   "cell_type": "code",
   "execution_count": 6,
   "id": "f77414e4",
   "metadata": {},
   "outputs": [
    {
     "name": "stdout",
     "output_type": "stream",
     "text": [
      "The fair value of a European Call option based on the Black & Scholes Model is: $5.646\n",
      "The fair value of a European Put option based on the Black & Scholes Model is: $2.6112\n"
     ]
    }
   ],
   "source": [
    "print(\"The fair value of a European Call option based on the Black & Scholes Model is: ${:.5}\".format((PolanitzerBlackScholesCall(StockPrice, StrikePrice, Maturity, RiskFreeRate, Volatility))))\n",
    "print(\"The fair value of a European Put option based on the Black & Scholes Model is: ${:.5}\".format((PolanitzerBlackScholesPut(StockPrice, StrikePrice, Maturity, RiskFreeRate, Volatility))))"
   ]
  },
  {
   "cell_type": "code",
   "execution_count": null,
   "id": "6689e245",
   "metadata": {},
   "outputs": [],
   "source": []
  }
 ],
 "metadata": {
  "kernelspec": {
   "display_name": "Python 3",
   "language": "python",
   "name": "python3"
  },
  "language_info": {
   "codemirror_mode": {
    "name": "ipython",
    "version": 3
   },
   "file_extension": ".py",
   "mimetype": "text/x-python",
   "name": "python",
   "nbconvert_exporter": "python",
   "pygments_lexer": "ipython3",
   "version": "3.8.8"
  }
 },
 "nbformat": 4,
 "nbformat_minor": 5
}
