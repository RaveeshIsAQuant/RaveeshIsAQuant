{
 "cells": [
  {
   "cell_type": "code",
   "execution_count": 4,
   "id": "256db79a",
   "metadata": {},
   "outputs": [],
   "source": [
    "#\n",
    "# Monte Carlo valuation of European call options with NumPy (log version)\n",
    "# Monte_Carlo.py\n",
    "#\n",
    "import math\n",
    "from numpy import *\n",
    "from time import time"
   ]
  },
  {
   "cell_type": "code",
   "execution_count": 5,
   "id": "dc1bb4db",
   "metadata": {},
   "outputs": [],
   "source": [
    "# star import for shorter code\n",
    "random.seed(20000)\n",
    "t0 = time()"
   ]
  },
  {
   "cell_type": "code",
   "execution_count": 6,
   "id": "a1db0d1b",
   "metadata": {},
   "outputs": [],
   "source": [
    "# Parameters\n",
    "S0 = 100.; K = 105.; T = 1.0; r = 0.05; sigma = 0.2\n",
    "M = 50; dt = T / M; I = 250000"
   ]
  },
  {
   "cell_type": "code",
   "execution_count": 7,
   "id": "a021a52c",
   "metadata": {},
   "outputs": [],
   "source": [
    "# Simulating I paths with M time steps\n",
    "S = S0 * exp(cumsum((r - 0.5 * sigma ** 2) * dt\n",
    "+ sigma * math.sqrt(dt)* random.standard_normal((M + 1, I)), axis=0))"
   ]
  },
  {
   "cell_type": "code",
   "execution_count": 8,
   "id": "46b40518",
   "metadata": {},
   "outputs": [],
   "source": [
    "# sum instead of cumsum would also do\n",
    "# if only the final values are of interest\n",
    "S[0] = S0"
   ]
  },
  {
   "cell_type": "code",
   "execution_count": 9,
   "id": "dbd2b633",
   "metadata": {},
   "outputs": [],
   "source": [
    "# Calculating the Monte Carlo estimator\n",
    "C0 = math.exp(-r * T) * sum(maximum(S[-1] - K, 0)) / I\n",
    "# Results output\n",
    "tnp2 = time() - t0"
   ]
  },
  {
   "cell_type": "code",
   "execution_count": 10,
   "id": "262d787c",
   "metadata": {},
   "outputs": [
    {
     "name": "stdout",
     "output_type": "stream",
     "text": [
      "The European Option Value is:  8.165807966259603\n",
      "The Execution Time is:  1.0587856769561768\n"
     ]
    }
   ],
   "source": [
    "print('The European Option Value is: ', C0)\n",
    "print('The Execution Time is: ',tnp2)"
   ]
  },
  {
   "cell_type": "code",
   "execution_count": null,
   "id": "fb457c1d",
   "metadata": {},
   "outputs": [],
   "source": []
  }
 ],
 "metadata": {
  "kernelspec": {
   "display_name": "Python 3",
   "language": "python",
   "name": "python3"
  },
  "language_info": {
   "codemirror_mode": {
    "name": "ipython",
    "version": 3
   },
   "file_extension": ".py",
   "mimetype": "text/x-python",
   "name": "python",
   "nbconvert_exporter": "python",
   "pygments_lexer": "ipython3",
   "version": "3.8.8"
  }
 },
 "nbformat": 4,
 "nbformat_minor": 5
}
